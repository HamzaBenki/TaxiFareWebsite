{
 "cells": [
  {
   "cell_type": "code",
   "execution_count": 3,
   "id": "2867ba84",
   "metadata": {},
   "outputs": [],
   "source": [
    "from streamlit_folium import folium_static\n",
    "\n",
    "import folium\n",
    "\n",
    "import os\n",
    "\n",
    "import pandas as pd\n",
    "\n",
    "m = folium.Map(location=[40.7,-73.9], zoom_start=6)\n",
    "\n",
    "#def color_function(feat):\n",
    "#    return \"red\" if int(feat[\"properties\"][\"code\"][:1]) < 5 else \"blue\"\n",
    "\n",
    "#folium.GeoJson(\n",
    "#   geojson_path,\n",
    "#    name=\"geojson\",\n",
    "#    style_function=lambda feat: {\n",
    "#        \"weight\": 1,\n",
    "#        \"color\": \"black\",\n",
    "#        \"opacity\": 0.25,\n",
    "#        \"fillColor\": color_function(feat),\n",
    "#        \"fillOpacity\": 0.25,\n",
    "#    },\n",
    "#    highlight_function=lambda feat: {\n",
    "#        \"fillColor\": color_function(feat),\n",
    "#        \"fillOpacity\": .5,\n",
    "#    },\n",
    "#    tooltip=folium.GeoJsonTooltip(\n",
    "#        fields=['code', 'nom'],\n",
    "#        aliases=['Code', 'Name'],\n",
    "#        localize=True\n",
    "#    ),\n",
    "#).add_to(m)\n"
   ]
  },
  {
   "cell_type": "code",
   "execution_count": 6,
   "id": "1194dbfa",
   "metadata": {},
   "outputs": [
    {
     "data": {
      "text/plain": [
       "DeltaGenerator(_root_container=0, _provided_cursor=None, _parent=None, _block_type=None, _form_data=None)"
      ]
     },
     "execution_count": 6,
     "metadata": {},
     "output_type": "execute_result"
    }
   ],
   "source": [
    "folium_static(m)\n"
   ]
  },
  {
   "cell_type": "code",
   "execution_count": null,
   "id": "1a8203e6",
   "metadata": {},
   "outputs": [],
   "source": []
  }
 ],
 "metadata": {
  "kernelspec": {
   "display_name": "Python 3 (ipykernel)",
   "language": "python",
   "name": "python3"
  },
  "language_info": {
   "codemirror_mode": {
    "name": "ipython",
    "version": 3
   },
   "file_extension": ".py",
   "mimetype": "text/x-python",
   "name": "python",
   "nbconvert_exporter": "python",
   "pygments_lexer": "ipython3",
   "version": "3.8.12"
  },
  "toc": {
   "base_numbering": 1,
   "nav_menu": {},
   "number_sections": true,
   "sideBar": true,
   "skip_h1_title": false,
   "title_cell": "Table of Contents",
   "title_sidebar": "Contents",
   "toc_cell": false,
   "toc_position": {},
   "toc_section_display": true,
   "toc_window_display": false
  }
 },
 "nbformat": 4,
 "nbformat_minor": 5
}
